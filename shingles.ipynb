{
 "cells": [
  {
   "cell_type": "code",
   "execution_count": 8,
   "id": "9d42d98b",
   "metadata": {},
   "outputs": [
    {
     "name": "stdout",
     "output_type": "stream",
     "text": [
      "Shingles for file1.txt:  \n",
      " ['my name', 'name id', 'id hello', 'hello world']\n",
      "\n",
      "\n",
      "Shingles for file1.txt:  \n",
      " ['myn', 'yna', 'nam', 'ame', 'mei', 'eid', 'idh', 'dhe', 'hel', 'ell', 'llo', 'low', 'owo', 'wor', 'orl', 'rld']\n",
      "\n",
      "\n"
     ]
    }
   ],
   "source": [
    "# Word as Token\n",
    "import string\n",
    "\n",
    "def generate_k_shingles_word(filename, k):\n",
    "  shingles = set()\n",
    "  with open(filename, 'r') as file:\n",
    "    text = file.read()\n",
    "    # Remove punctuation and brackets\n",
    "    text = text.translate(str.maketrans('', '', string.punctuation + '[]'))\n",
    "    words = text.split()\n",
    "    # Initialize an empty list to store results\n",
    "    output = []\n",
    "    # Loop to generate substrings of length k\n",
    "    for i in range(len(words) - k + 1):\n",
    "        substring = ' '.join(words[i:i + k])\n",
    "        output.append(substring)\n",
    "  return output\n",
    "\n",
    "k = 2  #value of k for k-shingles\n",
    "shingles1 = generate_k_shingles_word(\"path\", k)\n",
    "print(f\"Shingles for file1.txt:  \\n {shingles1}\\n\\n\")\n",
    "\n",
    "## Character as Token\n",
    "import string\n",
    "\n",
    "def generate_k_shingles_char(filename, k):\n",
    "    shingles = set()\n",
    "    with open(filename, 'r') as file:\n",
    "        text = file.read()\n",
    "        # Remove punctuation and brackets\n",
    "        text = text.translate(str.maketrans('', '', string.punctuation + '[]'))\n",
    "        # Remove whitespace\n",
    "        text = text.replace(\" \", \"\").replace(\"\\n\", \"\")\n",
    "        # Initialize an empty list to store results\n",
    "        output = []\n",
    "        # Loop to generate substrings of length k\n",
    "        for i in range(len(text) - k + 1):\n",
    "            substring = text[i:i + k]\n",
    "            output.append(substring)\n",
    "    return output\n",
    "\n",
    "k = 3  # value of k for k-shingles\n",
    "shingles1 = generate_k_shingles_char('path', k)\n",
    "print(f\"Shingles for file1.txt:  \\n {shingles1}\\n\\n\")"
   ]
  },
  {
   "cell_type": "code",
   "execution_count": 9,
   "id": "cdafb636",
   "metadata": {},
   "outputs": [
    {
     "name": "stdout",
     "output_type": "stream",
     "text": [
      "Shingles for file1.txt:  \n",
      " ['fnejf', 'nejfn', 'ejfnr', 'jfnrf', 'fnrff', 'nrffn', 'rffne', 'ffner', 'fnerf', 'nerfn', 'erfne', 'rfner', 'fnerf', 'nerfr', 'erfre', 'rfref', 'frefn', 'refne', 'efnej', 'fnejf', 'nejfn', 'ejfnr', 'jfnre', 'fnreg', 'nregr', 'regrf', 'egrfr', 'grfrn', 'rfrng', 'frngj', 'rngjr', 'ngjre', 'gjren', 'jreng']\n",
      "\n",
      "\n"
     ]
    }
   ],
   "source": [
    "## Character as Token\n",
    "import string\n",
    "\n",
    "def generate_k_shingles_char(filename, k):\n",
    "    shingles = set()\n",
    "    text = filename\n",
    "    # Remove punctuation and brackets\n",
    "    text = text.translate(str.maketrans('', '', string.punctuation + '[]'))\n",
    "    text = text.replace(\" \", \"\").replace(\"\\n\", \"\")\n",
    "    output = []\n",
    "    for i in range(len(text) - k + 1):\n",
    "        substring = text[i:i + k]\n",
    "        output.append(substring)\n",
    "    return output\n",
    "\n",
    "k = 5  # value of k for k-shingles\n",
    "shingles1 = generate_k_shingles_char('fnejfn rffnerfnerf refnejfnr\"eg\" rfrngjreng', k)\n",
    "print(f\"Shingles for file1.txt:  \\n {shingles1}\\n\\n\")"
   ]
  }
 ],
 "metadata": {
  "kernelspec": {
   "display_name": "PYSPARK_KERNEL",
   "language": "python",
   "name": "pyspark_kernel"
  },
  "language_info": {
   "codemirror_mode": {
    "name": "ipython",
    "version": 3
   },
   "file_extension": ".py",
   "mimetype": "text/x-python",
   "name": "python",
   "nbconvert_exporter": "python",
   "pygments_lexer": "ipython3",
   "version": "3.10.0"
  }
 },
 "nbformat": 4,
 "nbformat_minor": 5
}
