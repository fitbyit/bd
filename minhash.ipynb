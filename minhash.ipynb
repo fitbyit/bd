{
 "cells": [
  {
   "cell_type": "code",
   "execution_count": 1,
   "id": "b2fef3a5",
   "metadata": {},
   "outputs": [
    {
     "name": "stdout",
     "output_type": "stream",
     "text": [
      "Signature Matrix:\n",
      "[[1. 0. 0. 1.]\n",
      " [0. 0. 3. 1.]]\n"
     ]
    }
   ],
   "source": [
    "import numpy as np\n",
    "\n",
    "data = np.array([\n",
    "    [1, 0, 0, 1],  \n",
    "    [0, 0, 1, 0],  \n",
    "    [0, 1, 0, 1],  \n",
    "    [1, 1, 0, 0],  \n",
    "    [0, 1, 1, 0]   \n",
    "])\n",
    "\n",
    "def h1(x):\n",
    "    return (x + 1) % 5\n",
    "\n",
    "def h2(x):\n",
    "    return (3 * x + 1) % 5\n",
    "\n",
    "num_hashes = 2\n",
    "num_elements = data.shape[0]\n",
    "\n",
    "signature_matrix = np.full((num_hashes, data.shape[1]), np.inf)\n",
    "\n",
    "for row in range(num_elements):\n",
    "    hashes = [h1(row), h2(row)]\n",
    "    for col in range(data.shape[1]):\n",
    "        if data[row, col] == 1:  # If the element is present in the set\n",
    "            for i in range(num_hashes):\n",
    "                signature_matrix[i, col] = min(signature_matrix[i, col], hashes[i])\n",
    "\n",
    "# Display the resulting signature matrix\n",
    "print(\"Signature Matrix:\")\n",
    "print(signature_matrix)"
   ]
  }
 ],
 "metadata": {
  "kernelspec": {
   "display_name": "Python 3 (ipykernel)",
   "language": "python",
   "name": "python3"
  },
  "language_info": {
   "codemirror_mode": {
    "name": "ipython",
    "version": 3
   },
   "file_extension": ".py",
   "mimetype": "text/x-python",
   "name": "python",
   "nbconvert_exporter": "python",
   "pygments_lexer": "ipython3",
   "version": "3.9.13"
  }
 },
 "nbformat": 4,
 "nbformat_minor": 5
}
