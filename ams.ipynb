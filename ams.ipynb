{
 "cells": [
  {
   "cell_type": "code",
   "execution_count": 3,
   "id": "9f019aac-2876-42c2-8b3b-faed27bdf82d",
   "metadata": {},
   "outputs": [
    {
     "name": "stdout",
     "output_type": "stream",
     "text": [
      "Estimated Surprise Number (F2) using AMS Algorithm: 145.66666666666666\n"
     ]
    }
   ],
   "source": [
    "import random\n",
    "\n",
    "# Stream of numbers\n",
    "stream = [1, 2, 7, 1, 4, 9, 4, 6, 1, 6, 4, 4, 5, 5, 5, 9, 8, 7, 2, 2, 4, 4, 1]\n",
    "\n",
    "def AMS_algorithm(stream, X_indices):\n",
    "    n = len(stream)\n",
    "    estimates = []\n",
    "    \n",
    "    for X in X_indices:\n",
    "        X_value = stream[X]  # Get the value from the stream at index X\n",
    "        count_X_value = stream.count(X_value)  # Count occurrences of that value in the stream\n",
    "        # The AMS estimate is n * (2 * count_X_value - 1)\n",
    "        estimate = n * (2 * count_X_value - 1)\n",
    "        estimates.append(estimate)\n",
    "    return sum(estimates) / len(estimates)\n",
    "\n",
    "# Indices X1, X2, X3\n",
    "X1, X2, X3 = 3, 8, 13\n",
    "\n",
    "# Calculate F2 using AMS algorithm\n",
    "surprise_number = AMS_algorithm(stream, [X1, X2, X3])\n",
    "print(\"Estimated Surprise Number (F2) using AMS Algorithm:\", surprise_number)"
   ]
  }
 ],
 "metadata": {
  "kernelspec": {
   "display_name": "Python 3 (ipykernel)",
   "language": "python",
   "name": "python3"
  },
  "language_info": {
   "codemirror_mode": {
    "name": "ipython",
    "version": 3
   },
   "file_extension": ".py",
   "mimetype": "text/x-python",
   "name": "python",
   "nbconvert_exporter": "python",
   "pygments_lexer": "ipython3",
   "version": "3.12.4"
  }
 },
 "nbformat": 4,
 "nbformat_minor": 5
}
