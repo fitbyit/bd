{
 "cells": [
  {
   "cell_type": "code",
   "execution_count": 2,
   "id": "8517bfbc",
   "metadata": {},
   "outputs": [
    {
     "name": "stdout",
     "output_type": "stream",
     "text": [
      "Is 14 possibly in the Bloom filter? True\n",
      "Is 15 possibly in the Bloom filter? True\n",
      "Bloom filter bit array: [1, 0, 1, 1, 0, 1, 1, 1, 1, 1, 0, 0, 0]\n"
     ]
    }
   ],
   "source": [
    "size = 13  \n",
    "bit_array = [0] * size\n",
    "\n",
    "def hash1(item):\n",
    "    return (item + 1) % size\n",
    "\n",
    "def hash2(item):\n",
    "    return (2*item+5) % size\n",
    "\n",
    "def check_item(item):\n",
    "    if bit_array[hash1(item)] == 0 or bit_array[hash2(item)] == 0:\n",
    "        return False\n",
    "    return True\n",
    "\n",
    "\n",
    "present_set = [8,17,25,14,20]\n",
    "for item in present_set:\n",
    "    bit_array[hash1(item)] = 1\n",
    "    bit_array[hash2(item)] = 1\n",
    "\n",
    "\n",
    "print(f\"Is 14 possibly in the Bloom filter? {check_item(7)}\")\n",
    "print(f\"Is 15 possibly in the Bloom filter? {check_item(5)}\") \n",
    "\n",
    "print(f\"Bloom filter bit array: {bit_array}\")"
   ]
  },
  {
   "cell_type": "code",
   "execution_count": 4,
   "id": "b9638c68",
   "metadata": {},
   "outputs": [
    {
     "name": "stdout",
     "output_type": "stream",
     "text": [
      "Is 14 possibly in the Bloom filter? True\n",
      "Is 15 possibly in the Bloom filter? True\n",
      "Bloom filter bit array: [1, 0, 1, 1, 1, 1, 1, 1, 1, 1, 0, 1, 0]\n"
     ]
    }
   ],
   "source": [
    "import pandas as pd\n",
    "\n",
    "size = 13 \n",
    "bit_array = [0] * size\n",
    "\n",
    "def hash1(item):\n",
    "    return (item + 1) % size\n",
    "\n",
    "def hash2(item):\n",
    "    return (2*item+5) % size\n",
    "\n",
    "def check_item(item):\n",
    "    if bit_array[hash1(item)] == 0 or bit_array[hash2(item)] == 0:\n",
    "        return False\n",
    "    return True\n",
    "\n",
    "present_set = pd.read_csv(\"path\")\n",
    "data = present_set[\"custid\"]\n",
    "for item in data:\n",
    "    bit_array[hash1(item)] = 1\n",
    "    bit_array[hash2(item)] = 1\n",
    "\n",
    "\n",
    "# Checking for 14 and 15\n",
    "print(f\"Is 14 possibly in the Bloom filter? {check_item(7)}\")\n",
    "print(f\"Is 15 possibly in the Bloom filter? {check_item(5)}\") \n",
    "\n",
    "# Display the bit array to understand how the filter looks\n",
    "print(f\"Bloom filter bit array: {bit_array}\")"
   ]
  },
  {
   "cell_type": "code",
   "execution_count": 11,
   "id": "593c7c31",
   "metadata": {},
   "outputs": [
    {
     "name": "stdout",
     "output_type": "stream",
     "text": [
      "Is 0 possibly in the Bloom filter? True\n",
      "Is 1 possibly in the Bloom filter? True\n",
      "Bloom filter bit array: [1, 1, 1, 1]\n"
     ]
    }
   ],
   "source": [
    "import pandas as pd\n",
    "from sklearn.preprocessing import LabelEncoder\n",
    "\n",
    "size = 4 \n",
    "bit_array = [0] * size\n",
    "\n",
    "def hash1(item):\n",
    "    return (item + 1) % size\n",
    "\n",
    "def hash2(item):\n",
    "    return (2*item+5) % size\n",
    "\n",
    "def check_item(item):\n",
    "    if bit_array[hash1(item)] == 0 or bit_array[hash2(item)] == 0:\n",
    "        return False\n",
    "    return True\n",
    "\n",
    "\n",
    "le = LabelEncoder()\n",
    "\n",
    "data = [\"abc@gmail.com\", \"test@example.in\", \"test1@example.com\",\"abcbcb@gmail.com\", \"test@example.in\"]\n",
    "le.fit(data)\n",
    "indices = le.transform(data)\n",
    "for item in indices:\n",
    "    bit_array[hash1(item)] = 1\n",
    "    bit_array[hash2(item)] = 1\n",
    "\n",
    "\n",
    "\n",
    "test = [\"abc@gmail.com\", \"test@example.in\"]\n",
    "le.fit(test)\n",
    "indices=le.transform(test)\n",
    "for item in indices:\n",
    "  print(f\"Is {item} possibly in the Bloom filter? {check_item(item)}\")\n",
    "\n",
    "# Display the bit array to understand\n",
    "print(f\"Bloom filter bit array: {bit_array}\")"
   ]
  }
 ],
 "metadata": {
  "kernelspec": {
   "display_name": "Python 3 (ipykernel)",
   "language": "python",
   "name": "python3"
  },
  "language_info": {
   "codemirror_mode": {
    "name": "ipython",
    "version": 3
   },
   "file_extension": ".py",
   "mimetype": "text/x-python",
   "name": "python",
   "nbconvert_exporter": "python",
   "pygments_lexer": "ipython3",
   "version": "3.9.13"
  }
 },
 "nbformat": 4,
 "nbformat_minor": 5
}
