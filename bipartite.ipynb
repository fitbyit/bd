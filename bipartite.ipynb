{
 "cells": [
  {
   "cell_type": "code",
   "execution_count": null,
   "id": "1d2e9fd7-c847-4a60-b5d1-d394a3119ce5",
   "metadata": {},
   "outputs": [],
   "source": [
    "import pandas as pd\n",
    "import networkx as nx\n",
    "import matplotlib.pyplot as plt\n",
    "from IPython.display import display\n",
    "from networkx.algorithms import community\n",
    "\n",
    "# Load the nodes and edges from CSV files\n",
    "nodes_df = pd.read_csv('./Documents/node.csv')\n",
    "edges_df = pd.read_csv('./Documents/edge.csv')\n",
    "\n",
    "#df = pd.read_csv('./Documents/data.csv')\n",
    "#node_df = df[['id','name','age']]\n",
    "#edge_df = df[['source','target']]\n",
    "\n",
    "# Create a directed graph\n",
    "G = nx.DiGraph()\n",
    "\n",
    "# Add nodes to the graph\n",
    "for index, row in nodes_df.iterrows():\n",
    "    G.add_node(row['id'], name=row['name'], age=row['age'])\n",
    "\n",
    "# Add edges to the graph\n",
    "for index, row in edges_df.iterrows():\n",
    "    G.add_edge(row['source'], row['target'], rel=row['relationsip'])\n",
    "\n",
    "# Draw the graph\n",
    "plt.figure(figsize=(12, 8))\n",
    "pos = nx.spring_layout(G)\n",
    "nx.draw(G, pos, with_labels=True, node_color='lightblue', node_size=1800, font_size=10, font_color='black', font_weight='bold')\n",
    "\n",
    "# Draw edge labels (weights)\n",
    "edge_labels = nx.get_edge_attributes(G, 'rel')\n",
    "nx.draw_networkx_edge_labels(G, pos, edge_labels=edge_labels)\n",
    "\n",
    "plt.title('Social Network Graph')\n",
    "plt.show()\n",
    "\n",
    "\n",
    "degree_centrality = nx.degree_centrality(G)\n",
    "betweenness_centrality = nx.betweenness_centrality(G)\n",
    "closeness_centrality = nx.closeness_centrality(G)\n",
    "pagerank = nx.pagerank(G)\n",
    "\n",
    "print(degree_centrality)\n",
    "print(betweenness_centrality)\n",
    "print(closeness_centrality)\n",
    "print(pagerank)\n",
    "\n",
    "# Find clusters using Girvan-Newman algorithm\n",
    "comp = community.girvan_newman(G)\n",
    "# Get the first set of communities\n",
    "first_community = next(comp)\n",
    "\n",
    "# Print communities\n",
    "for i, community in enumerate(first_community):\n",
    "    print(f\"\\n\\nCommunity {i + 1}: {list(community)}\")"
   ]
  },
  {
   "cell_type": "code",
   "execution_count": null,
   "id": "6f92ef2b-e72a-4e67-b735-39cd774f1ee1",
   "metadata": {},
   "outputs": [],
   "source": []
  }
 ],
 "metadata": {
  "kernelspec": {
   "display_name": "Python 3 (ipykernel)",
   "language": "python",
   "name": "python3"
  },
  "language_info": {
   "codemirror_mode": {
    "name": "ipython",
    "version": 3
   },
   "file_extension": ".py",
   "mimetype": "text/x-python",
   "name": "python",
   "nbconvert_exporter": "python",
   "pygments_lexer": "ipython3",
   "version": "3.12.4"
  }
 },
 "nbformat": 4,
 "nbformat_minor": 5
}
