{
 "cells": [
  {
   "cell_type": "code",
   "execution_count": 5,
   "id": "f959793a",
   "metadata": {},
   "outputs": [
    {
     "name": "stdout",
     "output_type": "stream",
     "text": [
      "Similarity between doc1 and doc2: 1.0\n",
      "Similarity between doc1 and doc3: 0.56\n",
      "Similarity between doc2 and doc3: 0.56\n"
     ]
    }
   ],
   "source": [
    "import hashlib\n",
    "import random\n",
    "import numpy as np\n",
    "\n",
    "# Step 1: Extract k-shingles from text\n",
    "def get_shingles(text, k):\n",
    "    shingles = set()\n",
    "    for i in range(len(text) - k + 1):\n",
    "        shingles.add(text[i:i + k])\n",
    "    return shingles\n",
    "\n",
    "# Step 2: Hashing a shingle (for MinHash)\n",
    "def hash_shingle(shingle, seed):\n",
    "    return int(hashlib.md5((shingle + str(seed)).encode('utf8')).hexdigest(), 16)\n",
    "\n",
    "# Step 3: Apply MinHash\n",
    "def minhash(shingles, num_hashes=100):\n",
    "    minhashes = []\n",
    "    for seed in range(num_hashes):\n",
    "        min_hash = min([hash_shingle(shingle, seed) for shingle in shingles])\n",
    "        minhashes.append(min_hash)\n",
    "    return minhashes\n",
    "\n",
    "# Step 4: Calculate Jaccard similarity using MinHash signatures\n",
    "def calculate_jaccard_similarity(minhash1, minhash2):\n",
    "    matches = sum(1 for i in range(len(minhash1)) if minhash1[i] == minhash2[i])\n",
    "    return matches / len(minhash1)\n",
    "\n",
    "def load_text_from_file(filename):\n",
    "    with open(filename, 'r', encoding='utf-8') as file:\n",
    "        return file.read()\n",
    "\n",
    "# Main function to calculate similarity between 3 documents\n",
    "def compare_documents(file1, file2, file3, k=5, num_hashes=100):\n",
    "    doc1_text = load_text_from_file(file1)\n",
    "    doc2_text = load_text_from_file(file2)\n",
    "    doc3_text = load_text_from_file(file3)\n",
    "    \n",
    "    # Generate shingles\n",
    "    doc1_shingles = get_shingles(doc1_text, k)\n",
    "    doc2_shingles = get_shingles(doc2_text, k)\n",
    "    doc3_shingles = get_shingles(doc3_text, k)\n",
    "    \n",
    "    # Apply MinHash\n",
    "    doc1_minhash = minhash(doc1_shingles, num_hashes)\n",
    "    doc2_minhash = minhash(doc2_shingles, num_hashes)\n",
    "    doc3_minhash = minhash(doc3_shingles, num_hashes)\n",
    "    \n",
    "    # Compute Jaccard similarity\n",
    "    similarity12 = calculate_jaccard_similarity(doc1_minhash, doc2_minhash)\n",
    "    similarity13 = calculate_jaccard_similarity(doc1_minhash, doc3_minhash)\n",
    "    similarity23 = calculate_jaccard_similarity(doc2_minhash, doc3_minhash)\n",
    "    \n",
    "    return similarity12, similarity13, similarity23\n",
    "\n",
    "# Example usage:\n",
    "file1 = \"doc1.txt\"\n",
    "file2 = \"doc2.txt\"\n",
    "file3 = \"doc3.txt\"\n",
    "\n",
    "similarity12, similarity13, similarity23 = compare_documents(file1, file2, file3)\n",
    "\n",
    "print(f\"Similarity between doc1 and doc2: {similarity12}\")\n",
    "print(f\"Similarity between doc1 and doc3: {similarity13}\")\n",
    "print(f\"Similarity between doc2 and doc3: {similarity23}\")"
   ]
  }
 ],
 "metadata": {
  "kernelspec": {
   "display_name": "Python 3 (ipykernel)",
   "language": "python",
   "name": "python3"
  },
  "language_info": {
   "codemirror_mode": {
    "name": "ipython",
    "version": 3
   },
   "file_extension": ".py",
   "mimetype": "text/x-python",
   "name": "python",
   "nbconvert_exporter": "python",
   "pygments_lexer": "ipython3",
   "version": "3.9.13"
  }
 },
 "nbformat": 4,
 "nbformat_minor": 5
}
