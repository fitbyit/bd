{
 "cells": [
  {
   "cell_type": "code",
   "execution_count": 6,
   "metadata": {
    "colab": {
     "base_uri": "https://localhost:8080/"
    },
    "id": "uLUazP-O863w",
    "outputId": "c3c489a9-04b1-4e08-fbcc-265d9d8b25e5"
   },
   "outputs": [
    {
     "name": "stdout",
     "output_type": "stream",
     "text": [
      "Estimated number of distinct items: 128\n",
      "Max Traling Zero is 7\n"
     ]
    }
   ],
   "source": [
    "import math\n",
    "\n",
    "def manual_hash(x):\n",
    "    return (x * 31 + x) % (2 ** 32)\n",
    "\n",
    "def hash_to_binary(x):\n",
    "    return bin(manual_hash(x))[2:]\n",
    "\n",
    "def count_trailing_zeros(binary_string):\n",
    "    return len(binary_string) - len(binary_string.rstrip('0'))\n",
    "\n",
    "# Flajolet-Martin algorithm \n",
    "def flajolet_martin(stream):\n",
    "    max_trailing_zeros = 0\n",
    "\n",
    "    for item in stream:\n",
    "        \n",
    "        binary_hash = hash_to_binary(item)\n",
    "        \n",
    "        trailing_zeros = count_trailing_zeros(binary_hash)\n",
    "        \n",
    "        max_trailing_zeros = max(max_trailing_zeros, trailing_zeros)\n",
    "\n",
    "    #2 raised to the power\n",
    "    estimate = 2 ** max_trailing_zeros\n",
    "    return estimate, max_trailing_zeros\n",
    "\n",
    "# Example\n",
    "stream = [7, 10, 14, 15, 7, 10, 20, 25, 14]\n",
    "distinct_estimate , max_zero = flajolet_martin(stream)\n",
    "print(f\"Estimated number of distinct items: {distinct_estimate}\")\n",
    "print(f\"Max Traling Zero is {max_zero}\")"
   ]
  },
  {
   "cell_type": "code",
   "execution_count": 5,
   "metadata": {
    "id": "YUDUYx3M5Y4n"
   },
   "outputs": [
    {
     "name": "stdout",
     "output_type": "stream",
     "text": [
      "[0 0 1 2 3 4 5 5 6 7 7]\n",
      "Estimated number of distinct items: 128\n",
      "Max Traling Zero is 7\n"
     ]
    }
   ],
   "source": [
    "import math\n",
    "from sklearn.preprocessing import LabelEncoder\n",
    "import pandas as pd\n",
    "\n",
    "def manual_hash(x):\n",
    "    return (x * 31 + x) % (2 ** 32)\n",
    "\n",
    "def hash_to_binary(x):\n",
    "    return bin(manual_hash(x))[2:]\n",
    "\n",
    "def count_trailing_zeros(binary_string):\n",
    "    return len(binary_string) - len(binary_string.rstrip('0'))\n",
    "\n",
    "def flajolet_martin(stream):\n",
    "    max_trailing_zeros = 0\n",
    "\n",
    "    for item in stream:\n",
    "        binary_hash = hash_to_binary(item)\n",
    "        trailing_zeros = count_trailing_zeros(binary_hash)\n",
    "        max_trailing_zeros = max(max_trailing_zeros, trailing_zeros)\n",
    "\n",
    "    #2 raised to the power \n",
    "    estimate = 2 ** max_trailing_zeros\n",
    "    return estimate, max_trailing_zeros\n",
    "\n",
    "# Example usage with a stream of numbers\n",
    "le  = LabelEncoder()\n",
    "df = pd.read_csv(\"data\")\n",
    "name = df[\"name\"]\n",
    "name = le.fit_transform(name)\n",
    "print(name)\n",
    "stream = [7, 10, 14, 15, 7, 10, 20, 25, 14]\n",
    "distinct_estimate , max_zero = flajolet_martin(name)\n",
    "print(f\"Estimated number of distinct items: {distinct_estimate}\")\n",
    "print(f\"Max Traling Zero is {max_zero}\")"
   ]
  }
 ],
 "metadata": {
  "colab": {
   "provenance": []
  },
  "kernelspec": {
   "display_name": "Python 3 (ipykernel)",
   "language": "python",
   "name": "python3"
  },
  "language_info": {
   "codemirror_mode": {
    "name": "ipython",
    "version": 3
   },
   "file_extension": ".py",
   "mimetype": "text/x-python",
   "name": "python",
   "nbconvert_exporter": "python",
   "pygments_lexer": "ipython3",
   "version": "3.9.13"
  }
 },
 "nbformat": 4,
 "nbformat_minor": 1
}
